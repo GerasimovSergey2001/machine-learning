{
 "cells": [
  {
   "cell_type": "markdown",
   "metadata": {
    "id": "mkamEI8fOeko"
   },
   "source": [
    "# Машинное обучение, ФКН ВШЭ\n",
    "\n",
    "# Практическое задание 9. EM-алгоритм\n",
    "\n",
    "## Общая информация\n",
    "\n",
    "Дата выдачи: 18.02.2021\n",
    "\n",
    "Мягкий дедлайн: 10.03.2022 23:59 MSK\n",
    "\n",
    "Жёсткий дедлайн: 13.03.2022 23:59 MSK\n",
    "\n",
    "## Оценивание и штрафы\n",
    "Каждая из задач имеет определенную «стоимость» (указана в скобках около задачи). Максимальная оценка за работу (без учёта бонусов) — 15 баллов.\n",
    "\n",
    "Сдавать задание после указанного жёсткого срока сдачи нельзя. При выставлении неполного балла за задание в связи с наличием ошибок на усмотрение проверяющего предусмотрена возможность исправить работу на указанных в ответном письме условиях.\n",
    "\n",
    "Задание выполняется самостоятельно. «Похожие» решения считаются плагиатом и все задействованные студенты (в том числе те, у кого списали) не могут получить за него больше 0 баллов (подробнее о плагиате см. на странице курса). Если вы нашли решение какого-то из заданий (или его часть) в открытом источнике, необходимо указать ссылку на этот источник в отдельном блоке в конце вашей работы (скорее всего вы будете не единственным, кто это нашел, поэтому чтобы исключить подозрение в плагиате, необходима ссылка на источник).\n",
    "\n",
    "Неэффективная реализация кода может негативно отразиться на оценке.\n",
    "\n",
    "## Формат сдачи\n",
    "Задания сдаются через систему anytask. Посылка должна содержать:\n",
    "* Ноутбук homework-practice-09-em-Username.ipynb\n",
    "* Модули preprocessing.py, metrics.py, models.py, содержащие написанный вами код\n",
    "* Ссылки на посылки в Яндекс.Контест для всех функций и классов, которые вы реализовали\n",
    "\n",
    "Ссылка на Яндекс.Контест: https://contest.yandex.ru/contest/35552\n",
    "\n",
    "Username — ваша фамилия и имя на латинице именно в таком порядке"
   ]
  },
  {
   "cell_type": "markdown",
   "metadata": {
    "id": "EWw9kNfAOekx"
   },
   "source": [
    "# Generative model of Labels, Abilities, and Difficulties (GLAD)\n",
    "\n",
    "В [семинаре 15](https://github.com/esokolov/ml-course-hse/blob/master/2020-spring/seminars/sem15-em.pdf) мы рассмотрели задачу восстановления истинной разметки по меткам от экспертов (которым мы не можем доверять в полной мере, более того, их предсказания могут расходиться).\n",
    "\n",
    "Рассмотрим следующую вероятностную модель:\n",
    "\n",
    "$$ p(L, Z | \\alpha, \\beta) = \\prod_{i=1}^{n} \\prod_{j=1}^m \\sigma(\\alpha_j\\beta_i)^{[l_{ij}=z_i]}\\sigma(-\\alpha_j\\beta_i)^{1-[l_{ij}=z_i]} p(z_j)$$\n",
    "\n",
    "где $l_{ij} -$ ответ $j$-го эксперта на задачу $i$, $z_j -$ истинная разметка, $\\alpha_i, \\beta_j-$ уровень экспертизы и сложность задачи соответственно. Для более подробного описания модели можно прочитать материалы семинара, а также [оригинальную статью](http://papers.nips.cc/paper/3644-whose-vote-should-count-more-optimal-integration-of-labels-from-labelers-of-unknown-expertise.pdf). Априорное распределение положим равномерным: $p(z_i) = 0.5$."
   ]
  },
  {
   "cell_type": "code",
   "execution_count": 64,
   "metadata": {
    "id": "MTdSB4T8Oekz"
   },
   "outputs": [],
   "source": [
    "import numpy as np\n",
    "seed = 0xDEADF00D\n",
    "np.random.seed(seed)"
   ]
  },
  {
   "cell_type": "code",
   "execution_count": 65,
   "metadata": {
    "id": "WY_V3OpMOek1"
   },
   "outputs": [],
   "source": [
    "L = np.load('L.npy')\n",
    "n, m = L.shape"
   ]
  },
  {
   "cell_type": "code",
   "execution_count": 66,
   "metadata": {
    "colab": {
     "base_uri": "https://localhost:8080/"
    },
    "id": "TMCP5sAgOek1",
    "outputId": "fed9aff4-2488-48b3-f881-29e463045815"
   },
   "outputs": [
    {
     "data": {
      "text/plain": [
       "2000"
      ]
     },
     "execution_count": 66,
     "metadata": {},
     "output_type": "execute_result"
    }
   ],
   "source": [
    "n"
   ]
  },
  {
   "cell_type": "markdown",
   "metadata": {
    "id": "uWHNzWzuOek3"
   },
   "source": [
    "**Задание 1. (2 балла)** Реализуйте EM-алгоритм для заданной выше модели. Вы можете воспользоваться предложенными шаблонами или написать свои. \n",
    "\n",
    "Обратите внимание, что правдоподобие моделирует не вероятность метки $l_{ij}$ принять значение 1 или 0, а вероятность того, что она равна скрытой переменной $z_i$, т.е. $p(l_{ij} = z_j|z_j, \\alpha_j, \\beta_i) \\neq p(l_{ij} = 1|\\alpha_j, \\beta_i) $. При этом заранее неизвестно, какая из скрытых переменных соответствует метке 1. Не забывайте, что параметры $\\beta_i$ должны быть неотрицательными; для этого оптимизируйте $\\log \\beta$. На M-шаге можете использовать как один шаг градиентного спуска, так и несколько: разумные результаты у вас должны получаться вне зависимости от числа итераций.\n",
    "\n",
    "Также при работе с вероятностями не забывайте о точности:\n",
    "1. Используйте логарифмы вероятностей.\n",
    "2. $\\log \\sigma(a)$ лучше преобразовать в $\\log \\sigma(a) = -\\log(1 + \\exp(-a)) = -\\mathrm{softplus}(-a) $\n",
    "3. Ещё полезные функции: `scipy.special.expit`, `scipy.special.logsumexp`, `np.log1p`\n",
    "\n",
    "Для отладки может быть полезно проверить градиент с помощью `scipy.optimize.check_grad`."
   ]
  },
  {
   "cell_type": "code",
   "execution_count": 67,
   "metadata": {
    "id": "FHpSyUwdOek4"
   },
   "outputs": [],
   "source": [
    "from scipy.special import expit"
   ]
  },
  {
   "cell_type": "code",
   "execution_count": 68,
   "metadata": {
    "id": "A3YfD-iN0nwR"
   },
   "outputs": [],
   "source": [
    "def softplus(x):\n",
    "    '''stable version of log(1 + exp(x))'''\n",
    "    c = (x > 20) * 1.\n",
    "    return np.log1p(np.exp(x * (1-c)) * (1-c)) + x * c\n",
    "def posterior(alpha, beta, L):\n",
    "    \"\"\" Posterior over true labels z p(z|l, \\alpha, \\beta)\n",
    "    Args:\n",
    "        alpha: ndarray of shape (n_experts).\n",
    "        beta: ndarray of shape (n_problems).\n",
    "        L: ndarray of shape (n_problems, n_experts).\n",
    "    \"\"\"\n",
    "    chisl = np.exp(np.log(0.5)+np.sum((L==1)*(-softplus(-np.outer(np.exp(beta),alpha)))  + (L!=1) * (-softplus(np.outer(np.exp(beta),alpha))), axis=1))\n",
    "    znam = chisl + np.exp(np.log(0.5)+np.sum((L==0)*(-softplus(-np.outer(np.exp(beta),alpha)))  + (L!=0) * (-softplus(np.outer(np.exp(beta),alpha))), axis=1))\n",
    "    q_1 = chisl/znam\n",
    "    return np.array([q_1,1-q_1])\n",
    "def alpha_grad_lb(alpha, beta, L, q):\n",
    "    \"\"\" Gradient of lower bound wrt alpha\n",
    "    Args:\n",
    "        alpha: ndarray of shape (n_experts).\n",
    "        beta: ndarray of shape (n_problems).\n",
    "        L: ndarray of shape (n_problems, n_experts).\n",
    "        q: ndarray of shape (2, n_problems).\n",
    "    \"\"\"\n",
    "    \n",
    "    q_1,q_0 = q\n",
    "    return np.sum(q_1.reshape(-1,1)*np.exp(beta).reshape(-1,1)*\\\n",
    "                  ((L==1)*expit(-np.outer(np.exp(beta),alpha))-\\\n",
    "                   (L!=1)*expit(np.outer(np.exp(beta),alpha)))+\\\n",
    "                  q_0.reshape(-1,1)*np.exp(beta).reshape(-1,1)*( (L==0)*expit(-np.outer(np.exp(beta),alpha)) -\\\n",
    "                                                      (L!=0)*expit(np.outer(np.exp(beta),alpha))),axis=0)\n",
    "def logbeta_grad_lb(alpha, beta, L, q):\n",
    "    q_1,q_0 = q\n",
    "    return np.sum(q_1.reshape(-1,1)*alpha*np.exp(beta).reshape(-1,1)*((L==1)*expit(-np.outer(np.exp(beta),alpha))-(L!=1)*expit(np.outer(np.exp(beta),alpha)))+\\\n",
    "       q_0.reshape(-1,1)*alpha*np.exp(beta).reshape(-1,1)*((L==0)*expit(-np.outer(np.exp(beta),alpha))-(L!=0)*expit(np.outer(np.exp(beta),alpha))), axis=1)\n",
    "    \n"
   ]
  },
  {
   "cell_type": "code",
   "execution_count": 69,
   "metadata": {
    "id": "vyVCkahpOelE"
   },
   "outputs": [],
   "source": [
    "from tqdm.auto import tqdm"
   ]
  },
  {
   "cell_type": "code",
   "execution_count": 70,
   "metadata": {
    "id": "SI5P7MH5OelE"
   },
   "outputs": [],
   "source": [
    "def em(L, n_steps=1000, lr=1e-3):\n",
    "    # initialize parameters\n",
    "    alpha, logbeta = np.random.randn(m), np.random.randn(n)\n",
    "    q = np.ones((2, len(logbeta))) * 0.5\n",
    "\n",
    "    for step in tqdm(range(n_steps)):\n",
    "        # E-step\n",
    "        q = posterior(alpha, logbeta, L) \n",
    "        # M-step\n",
    "        alpha = alpha+ lr * alpha_grad_lb(alpha, logbeta, L, q)\n",
    "        logbeta = logbeta + lr * logbeta_grad_lb(alpha, logbeta, L, q)\n",
    "\n",
    "    return alpha, np.exp(logbeta), q"
   ]
  },
  {
   "cell_type": "code",
   "execution_count": 77,
   "metadata": {
    "colab": {
     "base_uri": "https://localhost:8080/",
     "height": 49,
     "referenced_widgets": [
      "748e7a00d51845d68b7d5dddd5f864b7",
      "49c0fd1abe454083990a7bf1dbd4df65",
      "29797aa9dc8f401790fc5ed473f2ebb1",
      "632980767eaf43c68a550919a535d347",
      "b79ed76ea2de433ab0d7d59e1f1151e8",
      "1be2452c844d48b98e6047251539c29d",
      "30352712a9fe4ab6b3f7887f98fc6ef4",
      "507740c52cda4bc9bb8fb5bc03cb4a98",
      "e0a8347e1c5c430a921cab8ec3628cf5",
      "58aed75ed0d14d77bb4782332684aaf6",
      "66c76e0ce2044d65ac9992b48f87c1a8"
     ]
    },
    "id": "o0AeqHuiOelF",
    "outputId": "dc233319-f5ba-43e0-9ab3-ae790187c22e",
    "scrolled": true
   },
   "outputs": [
    {
     "data": {
      "application/vnd.jupyter.widget-view+json": {
       "model_id": "748e7a00d51845d68b7d5dddd5f864b7",
       "version_major": 2,
       "version_minor": 0
      },
      "text/plain": [
       "  0%|          | 0/1000 [00:00<?, ?it/s]"
      ]
     },
     "metadata": {},
     "output_type": "display_data"
    }
   ],
   "source": [
    "alpha, beta, q = em(L)"
   ]
  },
  {
   "cell_type": "code",
   "execution_count": 78,
   "metadata": {
    "id": "vYeKdgAyOelF"
   },
   "outputs": [],
   "source": [
    "ha = (q[0,:]>=0.5)*1"
   ]
  },
  {
   "cell_type": "markdown",
   "metadata": {
    "id": "C40sfRvqOelG"
   },
   "source": [
    "**Задание 2. (1 балл)** Загрузите настоящую разметку. Посчитайте `accuracy` разметки, полученной с помощью обычного голосования по большинству среди экспертов, и сравните его с качеством, полученным с помощью EM-алгоритма. Помните, что алгоритму не важно, какая метка 0, а какая 1, поэтому если получите качество <0.5, то просто поменяйте метки классов (не забудьте также поменять знак у $\\alpha$). "
   ]
  },
  {
   "cell_type": "code",
   "execution_count": 79,
   "metadata": {
    "id": "zorRoz5AOelG"
   },
   "outputs": [],
   "source": [
    "y = np.load('y.npy')\n",
    "# (∩ ￣ー￣)⊃ ✳✨✳✨✳✨✳"
   ]
  },
  {
   "cell_type": "code",
   "execution_count": 80,
   "metadata": {
    "id": "15OxSd4oOelG"
   },
   "outputs": [],
   "source": [
    "from sklearn.metrics import accuracy_score"
   ]
  },
  {
   "cell_type": "code",
   "execution_count": 81,
   "metadata": {
    "colab": {
     "base_uri": "https://localhost:8080/"
    },
    "id": "hFFFlzJlOelG",
    "outputId": "5919abdc-5bda-4902-a666-3f32a53a220f"
   },
   "outputs": [
    {
     "data": {
      "text/plain": [
       "0.892"
      ]
     },
     "execution_count": 81,
     "metadata": {},
     "output_type": "execute_result"
    }
   ],
   "source": [
    "accuracy_score(y,(np.sum(L,axis=1)>=m/2)*1) # accuracy при \"голосовании большинстом\""
   ]
  },
  {
   "cell_type": "code",
   "execution_count": 82,
   "metadata": {
    "colab": {
     "base_uri": "https://localhost:8080/"
    },
    "id": "p-bpw1yOOelH",
    "outputId": "4482bf01-3295-45a7-8bbf-bfc980d7c5f2"
   },
   "outputs": [
    {
     "data": {
      "text/plain": [
       "0.9555"
      ]
     },
     "execution_count": 82,
     "metadata": {},
     "output_type": "execute_result"
    }
   ],
   "source": [
    "accuracy_score(y,ha) # accuracy нашей модели"
   ]
  },
  {
   "cell_type": "markdown",
   "metadata": {
    "id": "ORzMSjw1OelH"
   },
   "source": [
    "**Задание 3. (0.5 балла)** Попробуйте проинтерпретировать полученные коэфициенты $\\alpha$. Есть ли в выборке эксперты, которые намеренно голосуют неверно? Как это можно понять по альфам? Продемонстрируйте, что эксперты действительно чаще голосуют за неверный класс. Постройте график зависимости доли врено размеченных экспертом объектов от коэффициента $\\alpha$. Прокомментируйте результаты."
   ]
  },
  {
   "cell_type": "code",
   "execution_count": 160,
   "metadata": {
    "colab": {
     "base_uri": "https://localhost:8080/"
    },
    "id": "JWNIKfnAOelH",
    "outputId": "ca1b3ebd-6faf-48ac-8990-ec3d57e63c2f"
   },
   "outputs": [
    {
     "data": {
      "text/plain": [
       "array([-4.2801643 , -4.54287219, -4.42837707, -4.20217947])"
      ]
     },
     "execution_count": 160,
     "metadata": {},
     "output_type": "execute_result"
    }
   ],
   "source": [
    "# да, похоже такие люди действительно есть (4 человека). Это можно понять по знаку альфа (альфа <0 => специалисты-разметчики не очень хорошие)\n",
    "alpha[alpha<0]"
   ]
  },
  {
   "cell_type": "code",
   "execution_count": 84,
   "metadata": {
    "id": "jGXqz8rVOelI"
   },
   "outputs": [],
   "source": [
    "import pandas as pd"
   ]
  },
  {
   "cell_type": "code",
   "execution_count": 85,
   "metadata": {
    "id": "sf7CarIbOelI",
    "scrolled": true
   },
   "outputs": [],
   "source": [
    "share = np.sum((pd.DataFrame(L).T == y)*1 , axis=1)/len(y)"
   ]
  },
  {
   "cell_type": "code",
   "execution_count": 86,
   "metadata": {
    "id": "kAvUWTCBOelI"
   },
   "outputs": [],
   "source": [
    "import seaborn as sns \n",
    "import matplotlib.pyplot as plt\n"
   ]
  },
  {
   "cell_type": "code",
   "execution_count": 162,
   "metadata": {
    "colab": {
     "base_uri": "https://localhost:8080/",
     "height": 899
    },
    "id": "F3kEROS2OelJ",
    "outputId": "5d31a3ea-9c85-4962-e4da-67dd81d15d55"
   },
   "outputs": [
    {
     "data": {
      "image/png": "[encoded data removed]",
      "text/plain": [
       "<Figure size 1080x1080 with 1 Axes>"
      ]
     },
     "metadata": {},
     "output_type": "display_data"
    }
   ],
   "source": [
    "fig, ax = plt.subplots(figsize=(15,15))\n",
    "sns.barplot(x=np.round(alpha,3), y=share);\n",
    "plt.title(' график зависимости доли врено размеченных экспертом объектов от коэффициента  α ')\n",
    "plt.xlabel('α')\n",
    "plt.ylabel('доля правильных ответов');"
   ]
  },
  {
   "cell_type": "markdown",
   "metadata": {
    "id": "y-q38ulvEqAV"
   },
   "source": [
    "По графику видно, что чем больше альфа, тем лучше эксперт классифицирует объект "
   ]
  },
  {
   "cell_type": "markdown",
   "metadata": {
    "id": "-wF8eo-LOelK"
   },
   "source": [
    "# Выравнивание слов (Word Alignment)"
   ]
  },
  {
   "cell_type": "markdown",
   "metadata": {
    "id": "dMit3T4JOelK"
   },
   "source": [
    "EM-алгоритм также применяют на практике для настройки параметров модели выравнивания слов, более сложные модификации которой используются в статистическом машинном переводе. Мы не будем подробно обсуждать применение word alignment для перевода и ограничимся следующей целью: пусть у нас есть параллельный корпус из предложений на исходном языке и их переводов на целевой язык (в этом задании используются английский и чешский соответственно). \n",
    "\n",
    "Первая задача — определить с помощью этого корпуса, как переводится каждое отдельное слово на целевом языке. Вторая задача — для произвольной пары из предложения и его перевода установить, переводом какого слова в исходном предложении является каждое слово в целевом предложении. Оказывается, у обеих задач существует элегантное и эффективное решение при введении правильной вероятностной модели: в этой части задания вам предстоит его реализовать и оценить результаты работы. Но обо всём по порядку :)\n",
    "\n",
    "---\n",
    "\n",
    "Перед тем, как заниматься машинным обучением, давайте разберёмся с данными и метриками в интересующей нас задаче. В ячейке ниже загружается и разархивируется параллельный английско-чешский корпус, в котором есть разметка выравнивания слов. Нетрудно заметить, что формат XML-файла, использованный его авторами, не вполне стандартный: нет готовой команды , которая позволила бы получить список пар предложений вместе с выравниваниями. Это значит, что нужно разобраться с форматом и написать парсер самостоятельно, используя встроенные средства Python, например, модуль [xml](https://docs.python.org/3.7/library/xml.html)."
   ]
  },
  {
   "cell_type": "code",
   "execution_count": 123,
   "metadata": {
    "colab": {
     "base_uri": "https://localhost:8080/"
    },
    "id": "_kqDCxNVOelL",
    "outputId": "324b9310-a4fd-4782-9d44-b1c38066b4b6"
   },
   "outputs": [
    {
     "name": "stdout",
     "output_type": "stream",
     "text": [
      "<?xml version=\"1.0\" encoding=\"utf-8\" ?>\n",
      "<sentences>\n",
      "<s id=\"project_syndicate_bacchetta1-s1\">\r\n",
      "  <english>Are the Dollar 's Days Numbered ?</english>\n",
      "  <czech>Jsou dny dolaru sečteny ?</czech>\n",
      "  <sure>1-1 3-3 5-2 6-4 7-5</sure>\n",
      "  <possible>2-2 4-3</possible>\n",
      "</s>\n",
      "<s id=\"project_syndicate_bacchetta1-s2\">\r\n",
      "  <english>Philippe Bacchetta and Eric van Wincoop</english>\n",
      "  <czech>Philippe Bacchetta and Eric van Wincoop</czech>\n",
      "  <sure>1-1 2-2 3-3 4-4 5-5 6-6</sure>\n",
      "  <possible></possible>\n",
      "</s>\n",
      "<s id=\"project_syndicate_bacchetta1-s3\">\r\n",
      "  <english>A year ago , the dollar bestrode the world like a colossus .</english>\n",
      "  <czech>Ještě před rokem dolar dominoval světu jako imperátor .</czech>\n",
      "  <sure>10-7 12-8 13-9 2-3 3-2 6-4 7-5 9-6</sure>\n",
      "  <possible>1-3 11-8 3-1 5-4 8-6</possible>\n",
      "</s>\n"
     ]
    }
   ],
   "source": [
    "%%bash\n",
    "wget -q https://lindat.mff.cuni.cz/repository/xmlui/bitstream/handle/11234/1-1804/CzEnAli_1.0.tar.gz -O CzEnAli_1.0.tar.gz\n",
    "mkdir -p data\n",
    "tar -xzf CzEnAli_1.0.tar.gz -C data/\n",
    "head -n 20 data/merged_data/project_syndicate/project_syndicate_bacchetta1.wa"
   ]
  },
  {
   "cell_type": "markdown",
   "metadata": {
    "id": "cc6-RNsAOelL"
   },
   "source": [
    "**Задание -2. (0.5 балла)** Реализуйте функцию `extract_sentences`, которая принимает на вход путь к файлу с XML-разметкой, используемой в этом датасете, и возвращает список параллельных предложений, а также список из «уверенных» (sure) и «возможных» (possible) пар выравниваний. Отправьте вашу реализацию в Яндекс.Контест, чтобы убедиться в её корректности; в следующей ячейке ноутбука соберите все пары размеченных предложений из датасета в два списка `all_sentences` (список `SentencePair`) и `all_targets` (список LabeledAlignment).\n",
    "\n",
    "Здесь и далее соблюдайте сигнатуры функций и пользуйтесь объявленными в модуле `preprocessing.py` классами для организации данных. Стоит заметить, что предложения уже токенизированы (даже отделена пунктуация), поэтому предобработку текстов совершать не нужно. Обратите внимание на формат хранения выравниваний: нумерация начинается с 1 (в таком виде и нужно сохранять), первым в паре идёт слово из англоязычного предложения."
   ]
  },
  {
   "cell_type": "markdown",
   "metadata": {
    "id": "gsjZeTP5D5kC"
   },
   "source": [
    "#gerasimov.serf - имя в контесте (на всякий случай)"
   ]
  },
  {
   "cell_type": "markdown",
   "metadata": {
    "id": "-GS5Ug-7-GsR"
   },
   "source": [
    "https://contest.yandex.ru/contest/35552/run-report/65683165/"
   ]
  },
  {
   "cell_type": "code",
   "execution_count": 124,
   "metadata": {
    "id": "xp2_XvVI0CKZ"
   },
   "outputs": [],
   "source": [
    "import glob\n",
    "from preprocessing import extract_sentences\n",
    "all_sentences = []\n",
    "all_targets = []\n",
    "paths = ['/content/data/merged_data/celex/*.*',\"/content/data/merged_data/named_entities/*.*\",\"/content/data/merged_data/pcedt/*.*\",\"/content/data/merged_data/project_syndicate/*.*\",\"/content/data/merged_data/rd_books_kacenka/*.*\"]\n",
    "for path in paths:   \n",
    "  for file in glob.glob(path):\n",
    "    a,b = extract_sentences('{}'.format(file))\n",
    "    all_sentences.extend(a)\n",
    "    all_targets.extend(b)"
   ]
  },
  {
   "cell_type": "markdown",
   "metadata": {
    "id": "HYa5n69uOelM"
   },
   "source": [
    "**Задание -1. (0.5 балла)** Реализуйте функции `get_token_to_index` и `tokenize_sents` из модуля `preprocessing.py`, постройте словари token->index для обоих языков и постройте список из `TokenizedSentencePair` по выборке. Реализации функций также отправьте в Яндекс.Контест."
   ]
  },
  {
   "cell_type": "markdown",
   "metadata": {
    "id": "Fjq7V1Jw-San"
   },
   "source": [
    "https://contest.yandex.ru/contest/35552/run-report/65920658/"
   ]
  },
  {
   "cell_type": "code",
   "execution_count": 125,
   "metadata": {
    "id": "zfKrUi25OelM"
   },
   "outputs": [],
   "source": [
    "from preprocessing import get_token_to_index, tokenize_sents\n",
    "\n",
    "t_idx_src, t_idx_tgt = get_token_to_index(all_sentences, freq_cutoff = None)\n",
    "tokenized_sentences = tokenize_sents(all_sentences, t_idx_src, t_idx_tgt)"
   ]
  },
  {
   "cell_type": "markdown",
   "metadata": {
    "id": "T-AEsR6DOelM"
   },
   "source": [
    "В качестве бейзлайна для этой задачи мы возьмём способ выравнивания слов по коэффициенту Дайса: слово в исходном языке является переводом слова на целевом языке, если они часто встречаются в одних и тех же предложениях и редко встречаются по отдельности. \n",
    "\n",
    "Математически это записывается по аналогии с мерой Жаккара: пусть $c(x,y)$ — число параллельных предложений, в которых есть и $x$ (на исходном языке), и $y$ (на целевом языке), а $c(x)$ и $c(y)$ — суммарное количество предложений, в которых встречается слово $x$ и $y$ соответственно. Тогда $\\textrm{Dice}(x,y)=\\frac{2 \\cdot c(x,y)}{c(x) + c(y)}$ — характеристика «похожести» слов $x$ и $y$. Она равна 1, если слова встречаются только в контексте друг друга (не бывает предложений только со словом $x$ без $y$ в переводе и наоборот), равна 0, если слова никогда не встречаются в параллельных предложениях и находится между пороговыми значениями в остальных случаях.\n",
    "\n",
    "В файле `models.py` описан абстрактный класс `BaseAligner`, наследником которого должны являться все модели в задании, а также приведён пример реализации `DiceAligner` выравнивания слов описанным выше путём. Ниже вы можете увидеть, как применять эту модель."
   ]
  },
  {
   "cell_type": "code",
   "execution_count": 126,
   "metadata": {
    "id": "EXMfif0iOelM"
   },
   "outputs": [],
   "source": [
    "from models import DiceAligner\n",
    "baseline = DiceAligner(len(t_idx_src), len(t_idx_tgt), threshold=0.01)\n",
    "baseline.fit(tokenized_sentences)\n"
   ]
  },
  {
   "cell_type": "code",
   "execution_count": 127,
   "metadata": {
    "id": "UG0vJugYKJNz"
   },
   "outputs": [],
   "source": [
    "pred = baseline.align(tokenized_sentences)"
   ]
  },
  {
   "cell_type": "markdown",
   "metadata": {
    "id": "Hfz0NGQiOelN"
   },
   "source": [
    "Чтобы оценить качество модели выравнивания, пользуясь имеющейся разметкой, существует ряд автоматических метрик. Они подразумевают, что в разметке есть два вида выравниваний — «уверенные» (sure) и «возможные» (possible). Обозначим для конкретного предложения первое множество выравниваний $S$, второе — $P$, а предсказанные выравнивания — $A$; причём, в отличие от разметки в файле, $S\\subseteq P$. Тогда можно предложить три метрики, используя только операции над этими множествами:\n",
    "\n",
    "Precision $=\\frac{|A\\cap P|}{|A|}$. Отражает, какая доля предсказанных нами выравниваний вообще корректна; если мы дадим в качестве ответа все возможные пары слов в предложении, эта метрика сильно просядет.\n",
    "\n",
    "Recall $=\\frac{|A\\cap S|}{|S|}$. Эта метрика показывает, какую долю «уверенных» выравниваний мы обнаружили. Если мы попытаемся сделать слишком консервативную модель, которая выдаёт 0 или 1 предсказание на нетривиальных предложениях, полнота получится крайне низкая. \n",
    "\n",
    "Alignment Error Rate (AER) $=1-\\frac{|A\\cap P|+|A\\cap S|}{|A|+|S|}$. Метрика является комбинацией двух предыдущих и отслеживает общее качество работы системы, штрафуя оба описанных выше вида нежелаемого поведения модели. \n",
    "\n",
    "**Задание 0. (0.5 балла)** Реализуйте функции compute_precision, compute_recall, compute_aer из модуля metrics.py. Оцените качество бейзлайнового метода. Обратите внимание, что нужно использовать микро-усреднение во всех функциях: необходимо просуммировать числитель и знаменатель по всем предложениям и только потом делить."
   ]
  },
  {
   "cell_type": "markdown",
   "metadata": {
    "id": "8pdswMlU-WLW"
   },
   "source": [
    "https://contest.yandex.ru/contest/35552/run-report/65789818/"
   ]
  },
  {
   "cell_type": "code",
   "execution_count": 128,
   "metadata": {
    "colab": {
     "base_uri": "https://localhost:8080/"
    },
    "id": "iXvjWfapOelN",
    "outputId": "d7313e76-37fe-41f2-e027-767fd1be1a73"
   },
   "outputs": [
    {
     "data": {
      "text/plain": [
       "0.8074618330841489"
      ]
     },
     "execution_count": 128,
     "metadata": {},
     "output_type": "execute_result"
    }
   ],
   "source": [
    "from metrics import compute_aer\n",
    "\n",
    "compute_aer(all_targets,baseline.align(tokenized_sentences))"
   ]
  },
  {
   "cell_type": "markdown",
   "metadata": {
    "id": "1-983vu3OelN"
   },
   "source": [
    "Теперь мы можем перейти к базовой вероятностной модели для выравнивания слов. Пусть $S=(s_1,\\ldots,s_n)$ исходное предложение, $T=(t_1,\\ldots,t_m)$ — его перевод. В роли латентных переменных будут выступать выравнивания $A=(a_1,\\ldots,a_m)$ каждого слова в целевом предложении, причём $a_i\\in\\{1,\\ldots,n\\}$ (считаем, что каждое слово в $t$ является переводом какого-то слова из $s$). Параметрами модели является матрица условных вероятностей перевода: каждый её элемент $\\theta(y|x)=p(y|x)$ отражает вероятность того, что переводом слова $x$ с исходного языка на целевой является слово $y$ (нормировка, соответственно, совершается по словарю целевого языка). Правдоподобие латентных переменных и предложения на целевом языке в этой модели записывается так:\n",
    "\n",
    "$$\n",
    "p(A,T|S)=\\prod_{i=1}^m p(a_i)p(t_i|a_i,S)=\\prod_{i=1}^m \\frac{1}{n}\\theta(t_i|s_{a_i}).\n",
    "$$ "
   ]
  },
  {
   "cell_type": "markdown",
   "metadata": {
    "id": "EvShaqh-OelO"
   },
   "source": [
    "**Задание 1. (2 балла)** Выведите шаги EM-алгоритма для этой модели, а также получите выражение для подсчёта нижней оценки правдоподобия ($\\mathcal{L}$ в обозначениях лекции и семинара). **Обратите внимание, что на M-шаге нужно найти аналитический максимум по параметрам.**"
   ]
  },
  {
   "cell_type": "markdown",
   "metadata": {
    "id": "M0FUykDSOelO"
   },
   "source": [
    "E - шаг\n",
    "$$\n",
    "p(A|T,S) = \\frac{p(A,T|S)}{p(T|S)} = \\frac{\\prod_{i=1}^m \\frac{1}{n}\\theta(t_i|s_{a_i})}{\\sum_{A} p(A,T|S)} = \\frac{(\\frac{1}{n})^m\\prod_{i=1}^m \\theta(t_i|s_{a_i})}{\\sum_{a_1=1}^n \\sum_{a_2=1}^n ⋯ \\sum_{a_m=1}^n \\prod_{i=1}^m \\frac{1}{n} p(t_{i}|s_{a_{i}})} = \\frac{(\\frac{1}{n})^m\\prod_{i=1}^m \\theta(t_i|s_{a_i})}{(\\frac{1}{n})^m \\prod_{i=1}^m \\sum_{j=1}^n p(t_{i}|s_{j})} = \\frac{\\prod_{i=1}^m \\theta(t_i|s_{a_i})}{ \\prod_{i=1}^m \\sum_{j=1}^n p(t_{i}|s_{j})} = \\prod_{i=1}^m \\frac{\\theta(t_i|s_{a_i})}{\\sum_{j=1}^n \\theta(t_i|s_{j})}\n",
    "$$\n",
    "\n",
    "\n",
    "$$\n",
    "p(a_{i} = j|T,S) = \\frac{\\theta(t_{i}|s_{j})}{\\sum_{a_{i}=1}^n \\theta(t_{i}|s_{a_{i}})}\n",
    "$$"
   ]
  },
  {
   "cell_type": "markdown",
   "metadata": {
    "id": "bZawY4spThCT"
   },
   "source": [
    "ELBO\n",
    "\n",
    "$$\n",
    "log( \\prod_{k=1}^K p(T^{(k)}|S^{(k)}) = \\sum_{k=1}^Klog(p(T^{(k)}|S^{(k)}) =  \\sum_{k=1}^Klog(p(T^{(k)}|S^{(k)}) \\sum_{A^{(k)}} q(A^{(k)}) =  \\sum_{k=1}^K\\sum_{A^{(k)}} q(A^{(k)}) log(\\frac{p(T^{(k)}A^{(k)}|S^{(k)}}{p(A^{(k)}|T^{(k)} S^{(k)})}) \n",
    "$$\n",
    "\n",
    "$$\n",
    "=> ELBO = \\sum_{k=1}^K\\sum_{A^{(k)}} p(A^{(k)}|T^{(k)} S^{(k)}) log(\\frac{p(T^{(k)}A^{(k)}|S^{(k)})}{p(A|T^{(k)} S^{(k)})}) =  \\sum_{k=1}^K\\sum_{A^{(k)}} p(A^{(k)}|T^{(k)} S^{(k)}) log(p(T^{(k)}A^{(k)}|S^{(k)}) -  \\sum_{k=1}^K\\sum_{A^{(k)}} p(A^{(k)}|T^{(k)} S^{(k)}) log(p(A^{(k)}|T^{(k)} S^{(k)}) = \\sum_{k=1}^K\\sum_{A^{(k)}} p(A^{(k)}|T^{(k)} S^{(k)}) log(\\prod_{i=1}^{m^{(k)}} \\frac{1}{n^{(k)}}\\theta(t_i^{(k)}|s_{a_i}^{(k)})) - \\sum_{k=1}^K\\sum_{A^{(k)}} p(A^{(k)}|T^{(k)} S^{(k)}) log(p(A^{(k)}|T^{(k)} S^{(k)}) = \\sum_{k=1}^K\\sum_{A^{(k)}} p(A^{(k)}|T^{(k)} S^{(k)}) \\sum_{i=1}^{m^{(k)}}log(\\frac{1}{n^{(k)}}\\theta(t_i^{(k)}|s_{a_i}^{(k)}))-\\sum_{k=1}^K\\sum_{A^{(k)}} p(A^{(k)}|T^{(k)} S^{(k)}) log(p(A^{(k)}|T^{(k)} S^{(k)}) = \\sum_{k=1}^K\\sum_{i=1}^{m^{(k)}}\\sum_{a_i=1}^{n^{(k)}}\\frac{\\theta(t_i|s_{a_i})}{\\sum_{j=1}^{n^{(k)}} \\theta(t_i|s_{j})}log(\\frac{1}{n^{(k)}}\\theta(t_i|s_{a_i})) -  \\sum_{k=1}^K\\sum_{i=1}^{m^{(k)}}\\sum_{a_i=1}^{n^{(k)}}\\frac{\\theta(t_i|s_{a_i})}{\\sum_{j=1}^{n^{(k)}} \\theta(t_i|s_{j})}log(\\frac{\\theta(t_i|s_{a_i})}{\\sum_{j=1}^{n^{(k)}}θ(t_i|s_j)})\n",
    "$$"
   ]
  },
  {
   "cell_type": "markdown",
   "metadata": {
    "id": "MEnFxK-0NKWj"
   },
   "source": [
    "M-шаг\n",
    "\n",
    "$$\n",
    "c(t|s) = \\frac{\\theta(t|s)}{\\sum_{i'=1}^{n^{(k)}}\\theta(t|s_{i'}^{(k)})}\\sum_{d=1}^{m^{(k)}}δ(t,t_d^{(k)})\\sum_{h=1}^{n^{(k)}}\\delta(s,s_h^{(k)}), \n",
    "$$\n",
    "где (t,s) - пара токенов, и\n",
    "\n",
    "$$\n",
    "δ(a,b) =\n",
    "  \\begin{cases}\n",
    "    1       & \\quad \\text{if } a=b \\\\\n",
    "    0  & \\quad \\text{else }\n",
    "  \\end{cases}\n",
    "$$\n",
    "\n",
    "$$\n",
    "tc(t|s) = \\sum_{(T,S)}c(t|s)\n",
    "$$\n",
    "\n",
    "$$\n",
    "\\theta^{new}(t|s) = \\frac{tc(t|s)}{\\sum_{t^{'}}tc(t^{'}|s)}\n",
    "$$\n",
    "где $ t^{'} $ пробегает по всему словарю по таргету\n",
    "источник: http://mt-class.org/jhu/assets/papers/alopez-model1-tutorial.pdf"
   ]
  },
  {
   "cell_type": "code",
   "execution_count": 129,
   "metadata": {
    "id": "rW8P8oZr5qzt"
   },
   "outputs": [],
   "source": [
    "import numpy as np"
   ]
  },
  {
   "cell_type": "code",
   "execution_count": 130,
   "metadata": {
    "id": "Pu3FuRCD__8y"
   },
   "outputs": [],
   "source": [
    "import time"
   ]
  },
  {
   "cell_type": "code",
   "execution_count": 131,
   "metadata": {
    "id": "kOSzHUGCrx8L"
   },
   "outputs": [],
   "source": [
    "from tqdm.auto import tqdm"
   ]
  },
  {
   "cell_type": "markdown",
   "metadata": {
    "id": "GZox1Q9ROelO"
   },
   "source": [
    "**Задание 2. (2.5 балла)** Реализуйте все методы класса `WordAligner` в соответствии с полученными вами формулами. Протестируйте вашу реализацию через Яндекс.Контест, а здесь обучите модель и посчитайте её AER на истинной разметке. Чтобы предсказать выравнивание для пары предложений в этой модели, следует выбирать в соответствие для слова в целевом предложении с индексом $i$ позицию, соответствующую максимуму апостериорного распределения $p(a_i|T,S)$."
   ]
  },
  {
   "cell_type": "markdown",
   "metadata": {
    "id": "9tJ1gSB8-hQK"
   },
   "source": [
    "https://contest.yandex.ru/contest/35552/run-report/66089620/"
   ]
  },
  {
   "cell_type": "code",
   "execution_count": 132,
   "metadata": {
    "colab": {
     "base_uri": "https://localhost:8080/"
    },
    "id": "N90ypOhUOelO",
    "outputId": "1d74b21c-ebcc-473d-8b50-580fdcf1c4f7"
   },
   "outputs": [
    {
     "name": "stdout",
     "output_type": "stream",
     "text": [
      "CPU times: user 18.4 s, sys: 88.5 ms, total: 18.5 s\n",
      "Wall time: 23.6 s\n"
     ]
    }
   ],
   "source": [
    "%%time\n",
    "from models import WordAligner\n",
    "\n",
    "word_aligner = WordAligner(len(t_idx_src), len(t_idx_tgt), 20)\n",
    "w = word_aligner.fit(tokenized_sentences)"
   ]
  },
  {
   "cell_type": "code",
   "execution_count": 133,
   "metadata": {
    "colab": {
     "base_uri": "https://localhost:8080/"
    },
    "id": "R8mkRI9X2AsP",
    "outputId": "153cdfdd-cddf-49d8-8a7e-406e740e8305"
   },
   "outputs": [
    {
     "data": {
      "text/plain": [
       "0.5748201660955203"
      ]
     },
     "execution_count": 133,
     "metadata": {},
     "output_type": "execute_result"
    }
   ],
   "source": [
    "compute_aer(all_targets,word_aligner.align(tokenized_sentences))"
   ]
  },
  {
   "cell_type": "markdown",
   "metadata": {
    "id": "TfA0b_yrOelO"
   },
   "source": [
    "Заметим, что таблицу вероятностей перевода можно использовать и саму по себе для построения словарей. Пример работы показан ниже: метод хоть и работает, но мягко говоря, неидально — слишком мало данных."
   ]
  },
  {
   "cell_type": "code",
   "execution_count": 134,
   "metadata": {
    "id": "kk1DWkODOelP"
   },
   "outputs": [],
   "source": [
    "idx_token_tgt = {index:token for token, index in t_idx_tgt.items()}"
   ]
  },
  {
   "cell_type": "code",
   "execution_count": 135,
   "metadata": {
    "colab": {
     "base_uri": "https://localhost:8080/"
    },
    "id": "1MDHgDL6OelP",
    "outputId": "e6a99ee0-b764-4652-d8fd-65a7390959b8"
   },
   "outputs": [
    {
     "data": {
      "text/plain": [
       "['Pan', 'řekl', 'pan']"
      ]
     },
     "execution_count": 135,
     "metadata": {},
     "output_type": "execute_result"
    }
   ],
   "source": [
    "[idx_token_tgt[i] for i in word_aligner.translation_probs[t_idx_src['Mr']].argsort()[-3:]]"
   ]
  },
  {
   "cell_type": "code",
   "execution_count": 136,
   "metadata": {
    "colab": {
     "base_uri": "https://localhost:8080/"
    },
    "id": "H99Ia63-OelP",
    "outputId": "570a59d1-781f-4986-a48d-b52b8876095d"
   },
   "outputs": [
    {
     "data": {
      "text/plain": [
       "['-', 'Mannová', 'paní']"
      ]
     },
     "execution_count": 136,
     "metadata": {},
     "output_type": "execute_result"
    }
   ],
   "source": [
    "[idx_token_tgt[i] for i in word_aligner.translation_probs[t_idx_src['Mrs']].argsort()[-3:]]"
   ]
  },
  {
   "cell_type": "code",
   "execution_count": 137,
   "metadata": {
    "colab": {
     "base_uri": "https://localhost:8080/"
    },
    "id": "hYrl1AeCOelQ",
    "outputId": "a19dbb88-499c-40d6-af50-a0073c4d5831",
    "scrolled": true
   },
   "outputs": [
    {
     "data": {
      "text/plain": [
       "['z', 'pro', 'vody']"
      ]
     },
     "execution_count": 137,
     "metadata": {},
     "output_type": "execute_result"
    }
   ],
   "source": [
    "[idx_token_tgt[i] for i in word_aligner.translation_probs[t_idx_src['water']].argsort()[-3:]]"
   ]
  },
  {
   "cell_type": "code",
   "execution_count": 138,
   "metadata": {
    "colab": {
     "base_uri": "https://localhost:8080/"
    },
    "id": "vUIS9GKIOelQ",
    "outputId": "0a4af279-47cc-4d34-fe2e-3c010f2f4847"
   },
   "outputs": [
    {
     "data": {
      "text/plain": [
       "['jež', 'koni', 'konec']"
      ]
     },
     "execution_count": 138,
     "metadata": {},
     "output_type": "execute_result"
    }
   ],
   "source": [
    "[idx_token_tgt[i] for i in word_aligner.translation_probs[t_idx_src['depended']].argsort()[-3:]]"
   ]
  },
  {
   "cell_type": "code",
   "execution_count": 139,
   "metadata": {
    "colab": {
     "base_uri": "https://localhost:8080/"
    },
    "id": "YHEoRUAUOelQ",
    "outputId": "e1cb6327-d458-4d5b-a3f6-cfcc222cf007"
   },
   "outputs": [
    {
     "data": {
      "text/plain": [
       "['.', 'se', 'na']"
      ]
     },
     "execution_count": 139,
     "metadata": {},
     "output_type": "execute_result"
    }
   ],
   "source": [
    "[idx_token_tgt[i] for i in word_aligner.translation_probs[t_idx_src['on']].argsort()[-3:]]"
   ]
  },
  {
   "cell_type": "markdown",
   "metadata": {
    "id": "PdN2xXSkOelR"
   },
   "source": [
    "**Задание 3. (0.5 балла)** Мы смогли получить матрицу условных вероятностей перевода исходного языка в целевой. Можно ли, пользуясь этой матрицей и ещё какими-то статистиками по параллельному корпусу, получить вероятности перевода целевого языка в исходный? Реализуйте такой метод и приведите ниже пример его работы, показав пару удачных переводов."
   ]
  },
  {
   "cell_type": "code",
   "execution_count": 140,
   "metadata": {
    "id": "mWTw18SDOelR"
   },
   "outputs": [],
   "source": [
    "# (>ω<)ノ—==ΞΞ☆*✲ﾟ\n",
    "all_tokens_source = []\n",
    "all_tokens_target = []\n",
    "for i in range(len(tokenized_sentences)):\n",
    "  all_tokens_source.extend(tokenized_sentences[i].source_tokens)\n",
    "  all_tokens_target.extend(tokenized_sentences[i].target_tokens)"
   ]
  },
  {
   "cell_type": "code",
   "execution_count": 141,
   "metadata": {
    "id": "7-rXFGR5THUS"
   },
   "outputs": [],
   "source": [
    "source_count = np.unique(all_tokens_source, return_counts = True)[1].reshape(-1,1)\n",
    "target_count = np.unique(all_tokens_target, return_counts = True)[1].reshape(1,-1)\n",
    "p_s = source_count/source_count.sum()\n",
    "p_t = target_count/target_count.sum()"
   ]
  },
  {
   "cell_type": "code",
   "execution_count": 142,
   "metadata": {
    "id": "VxDAhQ_7wO9m"
   },
   "outputs": [],
   "source": [
    "p_s_t = word_aligner.translation_probs*p_s/p_t"
   ]
  },
  {
   "cell_type": "code",
   "execution_count": 143,
   "metadata": {
    "colab": {
     "base_uri": "https://localhost:8080/"
    },
    "id": "EZ61_FB5w11x",
    "outputId": "e267a22c-b698-4e92-9e13-02e00f8fb92e"
   },
   "outputs": [
    {
     "name": "stdout",
     "output_type": "stream",
     "text": [
      "(',', ',')\n",
      "('$', 'dolarů')\n",
      "('country', 'země')\n"
     ]
    }
   ],
   "source": [
    "K=[0,55,100]\n",
    "for k in K:\n",
    "  for i in t_idx_src.items():\n",
    "    if i[1]==np.argmax(p_s_t[:,k]):\n",
    "      for j in t_idx_tgt.items():\n",
    "        if j[1] == k:\n",
    "          print((i[0],j[0]))"
   ]
  },
  {
   "cell_type": "markdown",
   "metadata": {
    "id": "vBuaonrVOelR"
   },
   "source": [
    "**Задание 4. (0.5 балла)** Визуализируйте полученные выравнивания для нескольких предложений в виде heatmap: по одной из осей располагаются токены исходного текста, по другой — токены его перевода, на пересечении позиций $i$ и $j$ — 0 либо 1 в зависимости от того, является ли в обученной модели $a_i$ равным $j$. Можете ли вы их проинтерпретировать? Постройте аналогичный график, но без дискретизации, а визуализируя напрямую апостериорное распределение. Можете ли вы найти ситуации, в которых модель не уверена, переводом какого слова является слово $i$?"
   ]
  },
  {
   "cell_type": "code",
   "execution_count": 144,
   "metadata": {
    "id": "Yr7eavGkvWzW"
   },
   "outputs": [],
   "source": [
    "import seaborn as sns\n",
    "sns.set_theme()\n",
    "import matplotlib.pyplot as plt\n",
    "from matplotlib.pyplot import figure"
   ]
  },
  {
   "cell_type": "code",
   "execution_count": 145,
   "metadata": {
    "colab": {
     "base_uri": "https://localhost:8080/",
     "height": 888
    },
    "id": "ag4FsWfNkGAp",
    "outputId": "2b32bec5-c814-4c1f-f61f-1de0436ba087"
   },
   "outputs": [
    {
     "data": {
      "image/png": "[encoded data removed]",
      "text/plain": [
       "<Figure size 1080x1080 with 2 Axes>"
      ]
     },
     "metadata": {},
     "output_type": "display_data"
    }
   ],
   "source": [
    "z = np.zeros((len(tokenized_sentences[0].source_tokens), len(tokenized_sentences[0].target_tokens)))\n",
    "al_i = np.array(word_aligner.align(tokenized_sentences)[0])-1\n",
    "for i in range(len(al_i)):\n",
    "  z[al_i[:,0][i],al_i[:,1][i]] = 1\n",
    "df = pd.DataFrame(z,columns=tokenized_sentences[0].target_tokens,index = tokenized_sentences[0].source_tokens).T\n",
    "figure(figsize=(15, 15))\n",
    "sns.heatmap(df);"
   ]
  },
  {
   "cell_type": "code",
   "execution_count": 146,
   "metadata": {
    "colab": {
     "base_uri": "https://localhost:8080/",
     "height": 888
    },
    "id": "FiqexOJzvFm4",
    "outputId": "065b28e9-3baf-44fc-96ab-7f3ec82ae5d5"
   },
   "outputs": [
    {
     "data": {
      "image/png": "[encoded data removed]",
      "text/plain": [
       "<Figure size 1080x1080 with 2 Axes>"
      ]
     },
     "metadata": {},
     "output_type": "display_data"
    }
   ],
   "source": [
    "df = pd.DataFrame(word_aligner._e_step(tokenized_sentences)[0],columns=tokenized_sentences[0].target_tokens,index = tokenized_sentences[0].source_tokens).T\n",
    "figure(figsize=(15, 15))\n",
    "sns.heatmap(df);"
   ]
  },
  {
   "cell_type": "markdown",
   "metadata": {
    "id": "plrR-LJrApCC"
   },
   "source": [
    "Да, в некоторых переводах модель неуверена, например для токенов 2095 и 282 для source и target соответственно"
   ]
  },
  {
   "cell_type": "code",
   "execution_count": 149,
   "metadata": {
    "colab": {
     "base_uri": "https://localhost:8080/"
    },
    "id": "e1tUQgc2APRG",
    "outputId": "26cc262d-200a-4c50-90b5-79e9e0d92a52"
   },
   "outputs": [
    {
     "name": "stdout",
     "output_type": "stream",
     "text": [
      "('establishing', 'stanoví')\n"
     ]
    }
   ],
   "source": [
    "for i in t_idx_src.items():\n",
    "  if i[1]==2095:\n",
    "    for j in t_idx_tgt.items():\n",
    "        if j[1] == 282:\n",
    "          print((i[0],j[0]))"
   ]
  },
  {
   "cell_type": "markdown",
   "metadata": {
    "id": "11SEA_tZOelS"
   },
   "source": [
    "Заметим, что при задании модели мы сделали довольно сильное предположение о том, что вероятности выбора слова для выравнивания никак не зависят от позиции слова в целевом предложении. Можно сделать эти вероятности настраиваемыми параметрами, получив прямоугольную матрицу $\\phi_{m,n}(j|i)=p(a_i=j|m,n)$ для каждой пары длин предложений $m,n$: по-прежнему мы получаем распределение над индексами в исходном предложении. Тогда модель приобретает вид\n",
    "$$\n",
    "p(A,T|S)=\\prod_{i=1}^m p(a_i|m,n)p(t_i| a_i, S)=\\prod_{i=1}^m \\phi_{m,n}(a_i|i)\\theta(t_i|s_{a_i}).\n",
    "$$"
   ]
  },
  {
   "cell_type": "markdown",
   "metadata": {
    "id": "i3IbpRdAOelS"
   },
   "source": [
    "**Задание 5. (1.5 балла)** Выведите шаги EM-алгоритма для этой модели, а также получите выражение для подсчёта нижней оценки правдоподобия."
   ]
  },
  {
   "cell_type": "markdown",
   "metadata": {
    "id": "3naBMcctOelT"
   },
   "source": [
    "E - шаг\n",
    "$$\n",
    "p(A|T,S) = \\frac{p(A,T|S)}{p(T|S)} =  \\frac{p(A,T|S)}{\\sum_Ap(A,T|S)} = \\frac{\\prod_{i=1}^m \\phi_{m,n}(a_i|i)\\theta(t_i|s_{a_i})}{\\sum_A\\prod_{i=1}^m \\phi_{m,n}(a_i|i)\\theta(t_i|s_{a_i})}=\\prod_{i=1}^m\\frac{ \\phi_{m,n}(a_i|i)\\theta(t_i|s_{a_i})}{\\sum_{j=1}^n\\phi_{m,n}(a_i=j|i)\\theta(t_i|s_{j})}\n",
    "$$\n",
    "ELBO\n",
    "$$\n",
    "ELBO = \\sum_{k=1}^K\\sum_Ap(A|T,S)log\\frac{p(A,T|S)}{p(A|T,S)} = \\sum_{k=1}^K\\sum_A\\sum_{i=1}^{m^{(k)}}[\\prod_{i=1}^{m^{(k)}}\\frac{ \\phi_{m^{(k)},n^{(k)}}(a_i|i)\\theta(t_i|s_{a_i})}{\\sum_{j=1}^{n^{(k)}}\\phi_{m^{(k)},n^{(k)}}(a_i=j|i)\\theta(t_i|s_{j})}]log(\\phi_{m^{(k)},n^{(k)}}(a_i|i)\\theta(t_i|s_{a_i})) - \\sum_{k=1}^K\\sum_A\\sum_{i=1}^{m^{(k)}}[\\prod_{i=1}^{m^{(k)}}\\frac{ \\phi_{m^{(k)},n^{(k)}}(a_i|i)\\theta(t_i|s_{a_i})}{\\sum_{j=1}^{n^{(k)}}\\phi_{m^{(k)},n^{(k)}}(a_i=j|i)\\theta(t_i|s_{j})}]log(\\frac{ \\phi_{m,n}(a_i|i)\\theta(t_i|s_{a_i})}{\\sum_{j=1}^n\\phi_{m^{(k)},n^{(k)}}(a_i=j|i)\\theta(t_i|s_{j})})=\\sum_{k=1}^K \\sum_{i=1}^{m^{(k)}}\\sum_{a_i=1}^{n^{(k)}}\\frac{ \\phi_{m^{(k)},n^{(k)}}(a_i|i)\\theta(t_i|s_{a_i})}{\\sum_{j=1}^n\\phi_{m^{(k)},n^{(k)}}(a_i=j|i)\\theta(t_i|s_{j})}log(\\phi_{m^{(k)},n^{(k)}}(a_i|i)\\theta(t_i|s_{a_i}))-\\sum_{k=1}^K \\sum_{i=1}^{m^{(k)}}\\sum_{a_i=1}^{n^{(k)}}\\frac{ \\phi_{m^{(k)},n^{(k)}}(a_i|i)\\theta(t_i|s_{a_i})}{\\sum_{j=1}^n\\phi_{m^{(k)},n^{(k)}}(a_i=j|i)\\theta(t_i|s_{j})}log(\\frac{ \\phi_{m^{(k)},n^{(k)}}(a_i|i)\\theta(t_i|s_{a_i})}{\\sum_{j=1}^n\\phi_{m^{(k)},n^{(k)}}(a_i=j|i)\\theta(t_i|s_{j})})\n",
    "$$\n",
    "M-шаг\n",
    "$$\n",
    "c(t|s,T,S) = \\sum_A p(a|T,S) \\sum_{i=1}^m[t_i=t][s_{a_i}=s]\n",
    "$$\n",
    "$$\n",
    "\\theta(t|s) = \\frac{\\sum_{k=1}^Kc(t|s,T^{(k)},S^{(k)})}{\\sum_t\\sum_{k=1}^Kc(t|s,T^{(k)},S^{(k)})}\n",
    "$$\n",
    "$$\n",
    "\\phi_{n,m}(a_i|i) = \\frac{\\sum_{k=1}^Kp(a_i=j|t_i^{(k)},s_i^{(k)},T^{(k)},S^{(k)})}{\\sum_{j=1}^n\\sum_{k=1}^Kp(a_i=j|t_i^{(k)},s_i^{(k)},T^{(k)},S^{(k)})}\n",
    "$$"
   ]
  },
  {
   "cell_type": "markdown",
   "metadata": {
    "id": "avD1BHNN4W17"
   },
   "source": [
    "Источник: https://ocw.mit.edu/courses/electrical-engineering-and-computer-science/6-864-advanced-natural-language-processing-fall-2005/lecture-notes/lec16.pdf"
   ]
  },
  {
   "cell_type": "markdown",
   "metadata": {
    "id": "tmiium9tOelT"
   },
   "source": [
    "**Задание 6. (2 балла)** Реализуйте все методы класса `WordPositionAligner`, протестируйте их корректность через Яндекс.Контест. Обучите модель, оцените её качество на истинной разметке и сравните его с качеством предыдущей более простой модели. Проиллюстрируйте влияние стартовых параметров на результат, проинициализировав эту модель параметрами модели из задания 2 (важно, чтобы суммарное число эпох обучения в обоих сценариях оставалось тем же)."
   ]
  },
  {
   "cell_type": "markdown",
   "metadata": {
    "id": "Zck-6OCDDpFS"
   },
   "source": [
    "https://contest.yandex.ru/contest/35552/run-report/66096192/ - контест не пройден из-за превышения используемой памяти(((((((((((((((((("
   ]
  },
  {
   "cell_type": "code",
   "execution_count": 112,
   "metadata": {
    "id": "M8WcGqBqOelU"
   },
   "outputs": [],
   "source": [
    "from models import WordPositionAligner\n",
    "# (≧ ◡ ≦)━★☆.*･｡ﾟ"
   ]
  },
  {
   "cell_type": "code",
   "execution_count": 113,
   "metadata": {
    "colab": {
     "base_uri": "https://localhost:8080/"
    },
    "id": "-DkYEuPMkU7F",
    "outputId": "ed12acd5-a1c4-49c3-decf-cf857d8a209e"
   },
   "outputs": [
    {
     "name": "stderr",
     "output_type": "stream",
     "text": [
      "/content/models.py:198: VisibleDeprecationWarning: Creating an ndarray from ragged nested sequences (which is a list-or-tuple of lists-or-tuples-or ndarrays with different lengths or shapes) is deprecated. If you meant to do this, you must specify 'dtype=object' when creating the ndarray.\n",
      "  self.alignment_probs[(i,j)]= np.array(posteriors)[np.where((post_shape[:,0] == i) & (post_shape[:,1]==j))].sum(keepdims=True)[0]\n"
     ]
    },
    {
     "name": "stdout",
     "output_type": "stream",
     "text": [
      "CPU times: user 20.4 s, sys: 168 ms, total: 20.5 s\n",
      "Wall time: 22.3 s\n"
     ]
    }
   ],
   "source": [
    "%%time\n",
    "wpa = WordPositionAligner(len(t_idx_src),len(t_idx_tgt),20)\n",
    "wpa.fit(tokenized_sentences)"
   ]
  },
  {
   "cell_type": "code",
   "execution_count": 114,
   "metadata": {
    "colab": {
     "base_uri": "https://localhost:8080/"
    },
    "id": "JWkcE739n1-T",
    "outputId": "eef46d6f-a0e7-4a30-fc14-73aff3f753f3"
   },
   "outputs": [
    {
     "data": {
      "text/plain": [
       "0.5801097012544637"
      ]
     },
     "execution_count": 114,
     "metadata": {},
     "output_type": "execute_result"
    }
   ],
   "source": [
    "compute_aer(all_targets, wpa.align(tokenized_sentences))"
   ]
  },
  {
   "cell_type": "markdown",
   "metadata": {
    "id": "IL9Ukv0fBwCX"
   },
   "source": [
    "Проинициализируем модель 2\n",
    " параметрами модели 1"
   ]
  },
  {
   "cell_type": "code",
   "execution_count": 151,
   "metadata": {
    "colab": {
     "base_uri": "https://localhost:8080/"
    },
    "id": "jnmKMEHwBlgp",
    "outputId": "29cba256-0cba-4e5e-92e5-c9182dbd09fd"
   },
   "outputs": [
    {
     "name": "stderr",
     "output_type": "stream",
     "text": [
      "/content/models.py:198: VisibleDeprecationWarning: Creating an ndarray from ragged nested sequences (which is a list-or-tuple of lists-or-tuples-or ndarrays with different lengths or shapes) is deprecated. If you meant to do this, you must specify 'dtype=object' when creating the ndarray.\n",
      "  self.alignment_probs[(i,j)]= np.array(posteriors)[np.where((post_shape[:,0] == i) & (post_shape[:,1]==j))].sum(keepdims=True)[0]\n"
     ]
    },
    {
     "data": {
      "text/plain": [
       "0.5576549041400389"
      ]
     },
     "execution_count": 151,
     "metadata": {},
     "output_type": "execute_result"
    }
   ],
   "source": [
    "wa = WordAligner(len(t_idx_src),len(t_idx_tgt),10)\n",
    "wa.fit(tokenized_sentences)\n",
    "wp = WordPositionAligner(len(t_idx_src),len(t_idx_tgt),10)\n",
    "wp.translation_probs = wa.translation_probs\n",
    "wp.fit(tokenized_sentences)\n",
    "compute_aer(all_targets, wp.align(tokenized_sentences))"
   ]
  },
  {
   "cell_type": "markdown",
   "metadata": {
    "id": "yna-3SXzCwpu"
   },
   "source": [
    "как можно видеть, качество вышло лучше при том, что суммарное количество итераций осталось тем же."
   ]
  },
  {
   "cell_type": "markdown",
   "metadata": {
    "id": "XXUILBh6OelU"
   },
   "source": [
    "**Задание 7. (1 балл)** В предыдущих пунктах мы никак не заостряли внимание на предобработке текстов, что может негативно влиять на результаты обученной модели. Например, сейчас метод выравнивания учитывает регистр, а слова на чешском языке вдобавок обладают богатой морфологией и большим количеством диакритических знаков. Если сократить количество параметров модели (различных слов), можно ускорить обучение и добиться лучших результатов, потому что статистики по словам будут считаться по большему числу параллельных предложений.\n",
    "\n",
    "Примените к исходным данным [Unicode-нормализацию](https://en.wikipedia.org/wiki/Unicode_equivalence#Normalization), приведите их к нижнему регистру и обучите модель выравнивания заново. Сравните качество и скорость обучения с предыдущими результатами и сделайте выводы. Если вы найдете в данных ещё какие-то проблемы, которые можно исправить более грамотной предобработкой, также продемонстрируйте, как их решение влияет на качество.\n",
    "\n",
    "**Важно:** здесь и далее в процессе обработки данных у вас может получаться, что из тестовых данных будут удалены предложения из-за отсутствия слов в словаре. Если такое всё же произошло, для корректности сравнения считайте AER вашей модели на удалённых предложениях равным 1."
   ]
  },
  {
   "cell_type": "code",
   "execution_count": 152,
   "metadata": {
    "id": "dSW-292hOelU"
   },
   "outputs": [],
   "source": [
    "# (੭•̀ω•́)੭̸*✩⁺˚\n",
    "from unicodedata import normalize"
   ]
  },
  {
   "cell_type": "code",
   "execution_count": 153,
   "metadata": {
    "id": "D_vnXRMB9rdM"
   },
   "outputs": [],
   "source": [
    "# Обращаюсь к классу напрямую, чтобы вручну изменить параметр frozen"
   ]
  },
  {
   "cell_type": "code",
   "execution_count": 154,
   "metadata": {
    "id": "x4Is_T48tFV0"
   },
   "outputs": [],
   "source": [
    "from dataclasses import dataclass\n",
    "from typing import Dict, List, Tuple\n",
    "from collections import Counter\n",
    "import numpy as np\n",
    "import xml.etree.ElementTree as ET\n",
    "\n",
    "@dataclass(frozen=False)\n",
    "class SentencePair:\n",
    "    \"\"\"\n",
    "    Contains lists of tokens (strings) for source and target sentence\n",
    "    \"\"\"\n",
    "    source: List[str]\n",
    "    target: List[str]\n",
    "\n",
    "\n",
    "@dataclass(frozen=False)\n",
    "class TokenizedSentencePair:\n",
    "    \"\"\"\n",
    "    Contains arrays of token vocabulary indices (preferably np.int32) for source and target sentence\n",
    "    \"\"\"\n",
    "    source_tokens: np.ndarray\n",
    "    target_tokens: np.ndarray\n",
    "\n",
    "\n",
    "@dataclass(frozen=False)\n",
    "class LabeledAlignment:\n",
    "    \"\"\"\n",
    "    Contains arrays of alignments (lists of tuples (source_pos, target_pos)) for a given sentence.\n",
    "    Positions are numbered from 1.\n",
    "    \"\"\"\n",
    "    sure: List[Tuple[int, int]]\n",
    "    possible: List[Tuple[int, int]]\n",
    "\n",
    "\n",
    "def extract_sentences(filename: str) -> Tuple[List[SentencePair], List[LabeledAlignment]]:\n",
    "    sent = []\n",
    "    allign = []\n",
    "    text = []\n",
    "    with open(filename, 'r', encoding='utf-8') as file:\n",
    "      for line in file:\n",
    "          line = line.replace('&', '&#38;')\n",
    "          text.append(line)\n",
    "    xl = ' '.join(text)\n",
    "    root = ET.fromstring(xl)\n",
    "    for child in root:\n",
    "        s = SentencePair(child[0].text.split(' '),child[1].text.split(' '))\n",
    "        sent.append(s)\n",
    "        sure_al = []\n",
    "        poss_al = []\n",
    "        if child[2].text != None:\n",
    "            st = child[2].text.split(' ')\n",
    "            for i in st:\n",
    "                n = i.find('-')\n",
    "                sure_al.append((int(i[:n]),int(i[n+1:])))\n",
    "        if child[3].text != None:\n",
    "            pt = child[3].text.split(' ')\n",
    "            for j in pt:\n",
    "                n = j.find('-')\n",
    "                poss_al.append((int(j[:n]),int(j[n+1:])))\n",
    "        l = LabeledAlignment(sure_al,poss_al)\n",
    "        allign.append(l)\n",
    "    return (sent, allign)\n",
    "\n",
    "\n",
    "def get_token_to_index(sentence_pairs: List[SentencePair], freq_cutoff=None) -> Tuple[Dict[str, int], Dict[str, int]]:\n",
    "    \"\"\"\n",
    "    Given a parallel corpus, create two dictionaries token->index for source and target language.\n",
    "\n",
    "    Args:\n",
    "        sentence_pairs: list of `SentencePair`s for token frequency estimation\n",
    "        freq_cutoff: if not None, keep only freq_cutoff most frequent tokens in each language\n",
    "\n",
    "    Returns:\n",
    "        source_dict: mapping of token to a unique number (from 0 to vocabulary size) for source language\n",
    "        target_dict: mapping of token to a unique number (from 0 to vocabulary size) target language\n",
    "\n",
    "    \"\"\"\n",
    "    source_dict = {}\n",
    "    target_dict = {}\n",
    "    source_list = []\n",
    "    target_list = []\n",
    "    for sentence in sentence_pairs:\n",
    "      for token_source in sentence.source:\n",
    "        source_list.append(token_source)\n",
    "      for token_target in sentence.target:\n",
    "        target_list.append(token_target)\n",
    "    source_dict, target_dict = Counter(source_list), Counter(target_list)\n",
    "    source_dict = sorted(source_dict.items(), key = lambda x: x[1] , reverse = True)\n",
    "    target_dict = sorted(target_dict.items(), key = lambda x: x[1] , reverse = True)\n",
    "    if freq_cutoff != None:\n",
    "      source_dict = source_dict[0:freq_cutoff]\n",
    "      target_dict = target_dict[0:freq_cutoff]\n",
    "    if freq_cutoff != 0:  \n",
    "      source_dict = dict(zip(np.array(source_dict)[:,0],np.arange(len(source_dict))))\n",
    "      target_dict = dict(zip(np.array(target_dict)[:,0],np.arange(len(target_dict))))\n",
    "    else:\n",
    "      source_dict = {}\n",
    "      target_dict = {}\n",
    "    return (source_dict, target_dict)\n",
    "\n",
    "\n",
    "def tokenize_sents(sentence_pairs: List[SentencePair], source_dict, target_dict) -> List[TokenizedSentencePair]:\n",
    "    \"\"\"\n",
    "    Given a parallel corpus and token_to_index for each language, transform each pair of sentences from lists\n",
    "    of strings to arrays of integers. If either source or target sentence has no tokens that occur in corresponding\n",
    "    token_to_index, do not include this pair in the result.\n",
    "    \n",
    "    Args:\n",
    "        sentence_pairs: list of `SentencePair`s for transformation\n",
    "        source_dict: mapping of token to a unique number for source language\n",
    "        target_dict: mapping of token to a unique number for target language\n",
    "\n",
    "    Returns:\n",
    "        tokenized_sentence_pairs: sentences from sentence_pairs, tokenized using source_dict and target_dict\n",
    "    \"\"\"\n",
    "    \n",
    "    fuck = []\n",
    "    for sentence in sentence_pairs:\n",
    "      source = np.array([])\n",
    "      target = np.array([])\n",
    "      for token_source in sentence.source:\n",
    "        if token_source in source_dict.keys():\n",
    "          source = np.append(source, source_dict['{}'.format(token_source)])\n",
    "      for token_target in sentence.target:\n",
    "        if token_target in target_dict.keys():\n",
    "          target = np.append(target, target_dict['{}'.format(token_target)])\n",
    "      if (len(source) and len(target)) == 0:\n",
    "          return []\n",
    "      fuck.append(TokenizedSentencePair(source.astype(np.int32), target.astype(np.int32)))\n",
    "    return fuck"
   ]
  },
  {
   "cell_type": "code",
   "execution_count": 155,
   "metadata": {
    "id": "mm6M9uK4nw1b"
   },
   "outputs": [],
   "source": [
    "import glob\n",
    "all_sentences = []\n",
    "all_targets = []\n",
    "paths = ['/content/data/merged_data/celex/*.*',\"/content/data/merged_data/named_entities/*.*\",\"/content/data/merged_data/pcedt/*.*\",\"/content/data/merged_data/project_syndicate/*.*\",\"/content/data/merged_data/rd_books_kacenka/*.*\"]\n",
    "for path in paths:   \n",
    "  for file in glob.glob(path):\n",
    "    a,b = extract_sentences('{}'.format(file))\n",
    "    all_sentences.extend(a)\n",
    "    all_targets.extend(b)"
   ]
  },
  {
   "cell_type": "code",
   "execution_count": 156,
   "metadata": {
    "id": "imDe_MairRtz"
   },
   "outputs": [],
   "source": [
    "for i in all_sentences:\n",
    "  i.source = list(map(lambda x: normalize('NFD',x).lower(),i.source))\n",
    "  i.target = list(map(lambda x: normalize('NFD',x).lower(),i.target))"
   ]
  },
  {
   "cell_type": "code",
   "execution_count": 157,
   "metadata": {
    "id": "KbWSj179r7Ut"
   },
   "outputs": [],
   "source": [
    "t_idx_src, t_idx_tgt = get_token_to_index(all_sentences, freq_cutoff = None)\n",
    "tokenized_sentences = tokenize_sents(all_sentences, t_idx_src, t_idx_tgt)"
   ]
  },
  {
   "cell_type": "code",
   "execution_count": 158,
   "metadata": {
    "colab": {
     "base_uri": "https://localhost:8080/"
    },
    "id": "TvgOWAcqqRew",
    "outputId": "055da472-317c-45af-fbbb-d92111dbd7a1"
   },
   "outputs": [
    {
     "name": "stdout",
     "output_type": "stream",
     "text": [
      "CPU times: user 14.5 s, sys: 277 ms, total: 14.8 s\n",
      "Wall time: 14.8 s\n"
     ]
    }
   ],
   "source": [
    "%%time\n",
    "word_aligner = WordAligner(len(t_idx_src), len(t_idx_tgt), 20)\n",
    "w = word_aligner.fit(tokenized_sentences)"
   ]
  },
  {
   "cell_type": "code",
   "execution_count": 159,
   "metadata": {
    "colab": {
     "base_uri": "https://localhost:8080/"
    },
    "id": "d19EoFFSn1O2",
    "outputId": "99a2aaca-a204-45cf-a60b-f5c48ccb7d08"
   },
   "outputs": [
    {
     "data": {
      "text/plain": [
       "0.5602379261729081"
      ]
     },
     "execution_count": 159,
     "metadata": {},
     "output_type": "execute_result"
    }
   ],
   "source": [
    "compute_aer(all_targets, word_aligner.align(tokenized_sentences))"
   ]
  },
  {
   "cell_type": "markdown",
   "metadata": {
    "id": "i4PjI07Q_6R8"
   },
   "source": [
    "Время обучения снизилось с около 20 секунд до около 14 секунд, в то время как качество стало лучше на ~0.01"
   ]
  }
 ],
 "metadata": {
  "colab": {
   "collapsed_sections": [],
   "name": "homework_practice_09_em_Gerasimov_Sergey",
   "provenance": []
  },
  "kernelspec": {
   "display_name": "Python 3 (ipykernel)",
   "language": "python",
   "name": "python3"
  },
  "language_info": {
   "codemirror_mode": {
    "name": "ipython",
    "version": 3
   },
   "file_extension": ".py",
   "mimetype": "text/x-python",
   "name": "python",
   "nbconvert_exporter": "python",
   "pygments_lexer": "ipython3",
   "version": "3.9.7"
  },
  "widgets": {
   "application/vnd.jupyter.widget-state+json": {
    "1be2452c844d48b98e6047251539c29d": {
     "model_module": "@jupyter-widgets/base",
     "model_module_version": "1.2.0",
     "model_name": "LayoutModel",
     "state": {
      "_model_module": "@jupyter-widgets/base",
      "_model_module_version": "1.2.0",
      "_model_name": "LayoutModel",
      "_view_count": null,
      "_view_module": "@jupyter-widgets/base",
      "_view_module_version": "1.2.0",
      "_view_name": "LayoutView",
      "align_content": null,
      "align_items": null,
      "align_self": null,
      "border": null,
      "bottom": null,
      "display": null,
      "flex": null,
      "flex_flow": null,
      "grid_area": null,
      "grid_auto_columns": null,
      "grid_auto_flow": null,
      "grid_auto_rows": null,
      "grid_column": null,
      "grid_gap": null,
      "grid_row": null,
      "grid_template_areas": null,
      "grid_template_columns": null,
      "grid_template_rows": null,
      "height": null,
      "justify_content": null,
      "justify_items": null,
      "left": null,
      "margin": null,
      "max_height": null,
      "max_width": null,
      "min_height": null,
      "min_width": null,
      "object_fit": null,
      "object_position": null,
      "order": null,
      "overflow": null,
      "overflow_x": null,
      "overflow_y": null,
      "padding": null,
      "right": null,
      "top": null,
      "visibility": null,
      "width": null
     }
    },
    "29797aa9dc8f401790fc5ed473f2ebb1": {
     "model_module": "@jupyter-widgets/controls",
     "model_module_version": "1.5.0",
     "model_name": "FloatProgressModel",
     "state": {
      "_dom_classes": [],
      "_model_module": "@jupyter-widgets/controls",
      "_model_module_version": "1.5.0",
      "_model_name": "FloatProgressModel",
      "_view_count": null,
      "_view_module": "@jupyter-widgets/controls",
      "_view_module_version": "1.5.0",
      "_view_name": "ProgressView",
      "bar_style": "success",
      "description": "",
      "description_tooltip": null,
      "layout": "IPY_MODEL_507740c52cda4bc9bb8fb5bc03cb4a98",
      "max": 1000,
      "min": 0,
      "orientation": "horizontal",
      "style": "IPY_MODEL_e0a8347e1c5c430a921cab8ec3628cf5",
      "value": 1000
     }
    },
    "30352712a9fe4ab6b3f7887f98fc6ef4": {
     "model_module": "@jupyter-widgets/controls",
     "model_module_version": "1.5.0",
     "model_name": "DescriptionStyleModel",
     "state": {
      "_model_module": "@jupyter-widgets/controls",
      "_model_module_version": "1.5.0",
      "_model_name": "DescriptionStyleModel",
      "_view_count": null,
      "_view_module": "@jupyter-widgets/base",
      "_view_module_version": "1.2.0",
      "_view_name": "StyleView",
      "description_width": ""
     }
    },
    "49c0fd1abe454083990a7bf1dbd4df65": {
     "model_module": "@jupyter-widgets/controls",
     "model_module_version": "1.5.0",
     "model_name": "HTMLModel",
     "state": {
      "_dom_classes": [],
      "_model_module": "@jupyter-widgets/controls",
      "_model_module_version": "1.5.0",
      "_model_name": "HTMLModel",
      "_view_count": null,
      "_view_module": "@jupyter-widgets/controls",
      "_view_module_version": "1.5.0",
      "_view_name": "HTMLView",
      "description": "",
      "description_tooltip": null,
      "layout": "IPY_MODEL_1be2452c844d48b98e6047251539c29d",
      "placeholder": "​",
      "style": "IPY_MODEL_30352712a9fe4ab6b3f7887f98fc6ef4",
      "value": "100%"
     }
    },
    "507740c52cda4bc9bb8fb5bc03cb4a98": {
     "model_module": "@jupyter-widgets/base",
     "model_module_version": "1.2.0",
     "model_name": "LayoutModel",
     "state": {
      "_model_module": "@jupyter-widgets/base",
      "_model_module_version": "1.2.0",
      "_model_name": "LayoutModel",
      "_view_count": null,
      "_view_module": "@jupyter-widgets/base",
      "_view_module_version": "1.2.0",
      "_view_name": "LayoutView",
      "align_content": null,
      "align_items": null,
      "align_self": null,
      "border": null,
      "bottom": null,
      "display": null,
      "flex": null,
      "flex_flow": null,
      "grid_area": null,
      "grid_auto_columns": null,
      "grid_auto_flow": null,
      "grid_auto_rows": null,
      "grid_column": null,
      "grid_gap": null,
      "grid_row": null,
      "grid_template_areas": null,
      "grid_template_columns": null,
      "grid_template_rows": null,
      "height": null,
      "justify_content": null,
      "justify_items": null,
      "left": null,
      "margin": null,
      "max_height": null,
      "max_width": null,
      "min_height": null,
      "min_width": null,
      "object_fit": null,
      "object_position": null,
      "order": null,
      "overflow": null,
      "overflow_x": null,
      "overflow_y": null,
      "padding": null,
      "right": null,
      "top": null,
      "visibility": null,
      "width": null
     }
    },
    "58aed75ed0d14d77bb4782332684aaf6": {
     "model_module": "@jupyter-widgets/base",
     "model_module_version": "1.2.0",
     "model_name": "LayoutModel",
     "state": {
      "_model_module": "@jupyter-widgets/base",
      "_model_module_version": "1.2.0",
      "_model_name": "LayoutModel",
      "_view_count": null,
      "_view_module": "@jupyter-widgets/base",
      "_view_module_version": "1.2.0",
      "_view_name": "LayoutView",
      "align_content": null,
      "align_items": null,
      "align_self": null,
      "border": null,
      "bottom": null,
      "display": null,
      "flex": null,
      "flex_flow": null,
      "grid_area": null,
      "grid_auto_columns": null,
      "grid_auto_flow": null,
      "grid_auto_rows": null,
      "grid_column": null,
      "grid_gap": null,
      "grid_row": null,
      "grid_template_areas": null,
      "grid_template_columns": null,
      "grid_template_rows": null,
      "height": null,
      "justify_content": null,
      "justify_items": null,
      "left": null,
      "margin": null,
      "max_height": null,
      "max_width": null,
      "min_height": null,
      "min_width": null,
      "object_fit": null,
      "object_position": null,
      "order": null,
      "overflow": null,
      "overflow_x": null,
      "overflow_y": null,
      "padding": null,
      "right": null,
      "top": null,
      "visibility": null,
      "width": null
     }
    },
    "632980767eaf43c68a550919a535d347": {
     "model_module": "@jupyter-widgets/controls",
     "model_module_version": "1.5.0",
     "model_name": "HTMLModel",
     "state": {
      "_dom_classes": [],
      "_model_module": "@jupyter-widgets/controls",
      "_model_module_version": "1.5.0",
      "_model_name": "HTMLModel",
      "_view_count": null,
      "_view_module": "@jupyter-widgets/controls",
      "_view_module_version": "1.5.0",
      "_view_name": "HTMLView",
      "description": "",
      "description_tooltip": null,
      "layout": "IPY_MODEL_58aed75ed0d14d77bb4782332684aaf6",
      "placeholder": "​",
      "style": "IPY_MODEL_66c76e0ce2044d65ac9992b48f87c1a8",
      "value": " 1000/1000 [00:27&lt;00:00, 44.90it/s]"
     }
    },
    "66c76e0ce2044d65ac9992b48f87c1a8": {
     "model_module": "@jupyter-widgets/controls",
     "model_module_version": "1.5.0",
     "model_name": "DescriptionStyleModel",
     "state": {
      "_model_module": "@jupyter-widgets/controls",
      "_model_module_version": "1.5.0",
      "_model_name": "DescriptionStyleModel",
      "_view_count": null,
      "_view_module": "@jupyter-widgets/base",
      "_view_module_version": "1.2.0",
      "_view_name": "StyleView",
      "description_width": ""
     }
    },
    "748e7a00d51845d68b7d5dddd5f864b7": {
     "model_module": "@jupyter-widgets/controls",
     "model_module_version": "1.5.0",
     "model_name": "HBoxModel",
     "state": {
      "_dom_classes": [],
      "_model_module": "@jupyter-widgets/controls",
      "_model_module_version": "1.5.0",
      "_model_name": "HBoxModel",
      "_view_count": null,
      "_view_module": "@jupyter-widgets/controls",
      "_view_module_version": "1.5.0",
      "_view_name": "HBoxView",
      "box_style": "",
      "children": [
       "IPY_MODEL_49c0fd1abe454083990a7bf1dbd4df65",
       "IPY_MODEL_29797aa9dc8f401790fc5ed473f2ebb1",
       "IPY_MODEL_632980767eaf43c68a550919a535d347"
      ],
      "layout": "IPY_MODEL_b79ed76ea2de433ab0d7d59e1f1151e8"
     }
    },
    "b79ed76ea2de433ab0d7d59e1f1151e8": {
     "model_module": "@jupyter-widgets/base",
     "model_module_version": "1.2.0",
     "model_name": "LayoutModel",
     "state": {
      "_model_module": "@jupyter-widgets/base",
      "_model_module_version": "1.2.0",
      "_model_name": "LayoutModel",
      "_view_count": null,
      "_view_module": "@jupyter-widgets/base",
      "_view_module_version": "1.2.0",
      "_view_name": "LayoutView",
      "align_content": null,
      "align_items": null,
      "align_self": null,
      "border": null,
      "bottom": null,
      "display": null,
      "flex": null,
      "flex_flow": null,
      "grid_area": null,
      "grid_auto_columns": null,
      "grid_auto_flow": null,
      "grid_auto_rows": null,
      "grid_column": null,
      "grid_gap": null,
      "grid_row": null,
      "grid_template_areas": null,
      "grid_template_columns": null,
      "grid_template_rows": null,
      "height": null,
      "justify_content": null,
      "justify_items": null,
      "left": null,
      "margin": null,
      "max_height": null,
      "max_width": null,
      "min_height": null,
      "min_width": null,
      "object_fit": null,
      "object_position": null,
      "order": null,
      "overflow": null,
      "overflow_x": null,
      "overflow_y": null,
      "padding": null,
      "right": null,
      "top": null,
      "visibility": null,
      "width": null
     }
    },
    "e0a8347e1c5c430a921cab8ec3628cf5": {
     "model_module": "@jupyter-widgets/controls",
     "model_module_version": "1.5.0",
     "model_name": "ProgressStyleModel",
     "state": {
      "_model_module": "@jupyter-widgets/controls",
      "_model_module_version": "1.5.0",
      "_model_name": "ProgressStyleModel",
      "_view_count": null,
      "_view_module": "@jupyter-widgets/base",
      "_view_module_version": "1.2.0",
      "_view_name": "StyleView",
      "bar_color": null,
      "description_width": ""
     }
    }
   }
  }
 },
 "nbformat": 4,
 "nbformat_minor": 1
}
